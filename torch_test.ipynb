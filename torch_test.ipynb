{
 "cells": [
  {
   "cell_type": "code",
   "execution_count": 2,
   "id": "6e6157fb",
   "metadata": {},
   "outputs": [],
   "source": [
    "import torch"
   ]
  },
  {
   "cell_type": "code",
   "execution_count": 5,
   "id": "581ee9d4",
   "metadata": {},
   "outputs": [
    {
     "name": "stdout",
     "output_type": "stream",
     "text": [
      "tensor([[-0.0610,  0.6165,  2.1326],\n",
      "        [-0.4895,  0.1383,  1.7305],\n",
      "        [-0.2719, -1.1306, -0.7722]])\n",
      "tensor([[ 0.3373,  1.3573,  0.0451],\n",
      "        [ 1.7349,  0.5740, -1.4266],\n",
      "        [-2.0266, -0.4173, -1.8961]])\n",
      "tensor([[-6.9725e-01,  3.4472e-01,  3.0334e+00],\n",
      "        [ 1.0863e-03,  2.7618e+00,  5.7948e+00],\n",
      "        [ 8.4357e-01,  8.3669e-01, -3.5797e+00]])\n",
      "tensor([[-0.0206,  0.8367,  0.0962],\n",
      "        [-0.8492,  0.0794, -2.4687],\n",
      "        [ 0.5511,  0.4718,  1.4642]])\n"
     ]
    }
   ],
   "source": [
    "t = torch.randn(3, 3)\n",
    "a = torch.randn(3,3)\n",
    "m = torch.tensor([[1, 0, 1], [0, 1, 0], [1, 0, 1]], dtype=torch.bool)\n",
    "print(t)\n",
    "print(a)\n",
    "print(a @ t)\n",
    "print(a *t)"
   ]
  },
  {
   "cell_type": "code",
   "execution_count": 52,
   "id": "b06363a7",
   "metadata": {},
   "outputs": [
    {
     "name": "stdout",
     "output_type": "stream",
     "text": [
      "tensor([[-0.2849, -0.0000,  0.4088],\n",
      "        [-0.0000,  0.5333,  0.0000],\n",
      "        [ 1.4673,  0.0000, -0.2008]])\n"
     ]
    }
   ],
   "source": [
    "\n",
    "t = t * m.float()  # Apply mask to tensor t \n",
    "print(t)"
   ]
  },
  {
   "cell_type": "code",
   "execution_count": 22,
   "id": "e43eb515",
   "metadata": {},
   "outputs": [
    {
     "name": "stdout",
     "output_type": "stream",
     "text": [
      "tensor([[-0.2678, -0.0927,  0.2574],\n",
      "        [ 0.6696, -1.6090,  0.0776],\n",
      "        [-1.3099,  0.8091, -0.2462],\n",
      "        [-1.3821,  0.4183, -0.1210],\n",
      "        [-0.3753, -0.4889,  1.1836],\n",
      "        [-0.0088, -1.8725, -0.4579],\n",
      "        [ 1.0000,  0.0000,  0.0000],\n",
      "        [ 0.0000,  1.0000,  0.0000],\n",
      "        [ 0.0000,  0.0000,  1.0000]])\n"
     ]
    }
   ],
   "source": [
    "print(torch.cat((t, a, m), dim=0))  # Concatenate tensors along the first dimension"
   ]
  },
  {
   "cell_type": "code",
   "execution_count": null,
   "id": "d232e40b",
   "metadata": {},
   "outputs": [],
   "source": []
  }
 ],
 "metadata": {
  "kernelspec": {
   "display_name": ".venv",
   "language": "python",
   "name": "python3"
  },
  "language_info": {
   "codemirror_mode": {
    "name": "ipython",
    "version": 3
   },
   "file_extension": ".py",
   "mimetype": "text/x-python",
   "name": "python",
   "nbconvert_exporter": "python",
   "pygments_lexer": "ipython3",
   "version": "3.10.0"
  }
 },
 "nbformat": 4,
 "nbformat_minor": 5
}
