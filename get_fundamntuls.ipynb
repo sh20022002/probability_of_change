{
 "cells": [
  {
   "cell_type": "code",
   "execution_count": 1,
   "id": "74b6e76a",
   "metadata": {},
   "outputs": [],
   "source": [
    "import yfinance as yf\n"
   ]
  },
  {
   "cell_type": "code",
   "execution_count": 5,
   "id": "55d3b4db",
   "metadata": {},
   "outputs": [],
   "source": [
    "ticker = yf.Ticker(\"MMM\")\n",
    "fundamentals = ticker.financials  # Income statement\n",
    "balance_sheet = ticker.balance_sheet\n",
    "cash_flow = ticker.cashflow"
   ]
  },
  {
   "cell_type": "code",
   "execution_count": 33,
   "id": "088592c1",
   "metadata": {},
   "outputs": [
    {
     "name": "stdout",
     "output_type": "stream",
     "text": [
      "Income Statement:\n",
      "Tax Effect Of Unusual Items                                     261188000.0\n",
      "Tax Rate For Calcs                                                    0.167\n",
      "Normalized EBITDA                                              5809000000.0\n",
      "Total Unusual Items                                            1564000000.0\n",
      "Total Unusual Items Excluding Goodwill                         1564000000.0\n",
      "Net Income From Continuing Operation Net Minority Interest     4009000000.0\n",
      "Reconciled Depreciation                                        1363000000.0\n",
      "Reconciled Cost Of Revenue                                    14447000000.0\n",
      "EBITDA                                                         7373000000.0\n",
      "EBIT                                                           6010000000.0\n",
      "Net Interest Income                                            -739000000.0\n",
      "Interest Expense                                               1191000000.0\n",
      "Interest Income                                                 452000000.0\n",
      "Normalized Income                                              2706188000.0\n",
      "Net Income From Continuing And Discontinued Operation          4173000000.0\n",
      "Total Expenses                                                19753000000.0\n",
      "Total Operating Income As Reported                             4822000000.0\n",
      "Diluted Average Shares                                          552400000.0\n",
      "Basic Average Shares                                            550800000.0\n",
      "Diluted EPS                                                            7.55\n",
      "Basic EPS                                                              7.58\n",
      "Diluted NI Availto Com Stockholders                            4173000000.0\n",
      "Net Income Common Stockholders                                 4173000000.0\n",
      "Net Income                                                     4173000000.0\n",
      "Minority Interests                                              -15000000.0\n",
      "Net Income Including Noncontrolling Interests                  4188000000.0\n",
      "Net Income Discontinuous Operations                             164000000.0\n",
      "Net Income Continuous Operations                               4024000000.0\n",
      "Earnings From Equity Interest Net Of Tax                          9000000.0\n",
      "Tax Provision                                                   804000000.0\n",
      "Pretax Income                                                  4819000000.0\n",
      "Other Income Expense                                            736000000.0\n",
      "Other Non Operating Income Expenses                            -828000000.0\n",
      "Special Income Charges                                                  0.0\n",
      "Gain On Sale Of Business                                                0.0\n",
      "Impairment Of Capital Assets                                            0.0\n",
      "Gain On Sale Of Security                                       1564000000.0\n",
      "Net Non Operating Interest Income Expense                      -739000000.0\n",
      "Interest Expense Non Operating                                 1191000000.0\n",
      "Interest Income Non Operating                                   452000000.0\n",
      "Operating Income                                               4822000000.0\n",
      "Operating Expense                                              5306000000.0\n",
      "Research And Development                                       1085000000.0\n",
      "Selling General And Administration                             4221000000.0\n",
      "General And Administrative Expense                                      NaN\n",
      "Other Gand A                                                            NaN\n",
      "Salaries And Wages                                                      NaN\n",
      "Gross Profit                                                  10128000000.0\n",
      "Cost Of Revenue                                               14447000000.0\n",
      "Total Revenue                                                 24575000000.0\n",
      "Operating Revenue                                             24575000000.0\n",
      "Name: 2024-12-31 00:00:00, dtype: object\n"
     ]
    }
   ],
   "source": [
    "print(\"Income Statement:\")\n",
    "# print(fundamentals)\n",
    "print( fundamentals[fundamentals.columns[0]])\n",
    "# print(\"\\nBalance Sheet:\")\n",
    "# print(balance_sheet)\n",
    "# print(\"\\nCash Flow Statement:\")\n",
    "# print(cash_flow)"
   ]
  },
  {
   "cell_type": "code",
   "execution_count": null,
   "id": "5d5fd35a",
   "metadata": {},
   "outputs": [],
   "source": []
  }
 ],
 "metadata": {
  "kernelspec": {
   "display_name": ".venv",
   "language": "python",
   "name": "python3"
  },
  "language_info": {
   "codemirror_mode": {
    "name": "ipython",
    "version": 3
   },
   "file_extension": ".py",
   "mimetype": "text/x-python",
   "name": "python",
   "nbconvert_exporter": "python",
   "pygments_lexer": "ipython3",
   "version": "3.10.0"
  }
 },
 "nbformat": 4,
 "nbformat_minor": 5
}
