{
 "cells": [
  {
   "cell_type": "code",
   "execution_count": 30,
   "metadata": {},
   "outputs": [],
   "source": [
    "import yfinance as yf\n",
    "import pandas as pd\n",
    "import logging"
   ]
  },
  {
   "cell_type": "code",
   "execution_count": 35,
   "metadata": {},
   "outputs": [],
   "source": [
    "\n",
    "\n",
    "# Configure logging\n",
    "logging.basicConfig(filename=\"import_data.log\", level=logging.ERROR, format=\"%(asctime)s - %(levelname)s - %(message)s\")\n",
    "\n",
    "def import_data(symbol, timeframe):\n",
    "    try:\n",
    "        # Download stock data\n",
    "        ticker = yf.Ticker(symbol)\n",
    "        df = ticker.history( period='5d', interval=timeframe)\n",
    "\n",
    "        # Check if data is empty\n",
    "        if df.empty:\n",
    "            raise ValueError(f\"No data fetched for {symbol}.\")\n",
    "\n",
    "        # Rename index if necessary\n",
    "        if df.index.name != 'Datetime':\n",
    "            df.index.name = 'Datetime'\n",
    "\n",
    "        # Drop unnecessary columns if they exist\n",
    "        columns_to_drop = [col for col in ['Dividends', 'Stock Splits'] if col in df.columns]\n",
    "        if columns_to_drop:\n",
    "            df.drop(columns=columns_to_drop, inplace=True)\n",
    "\n",
    "        # Ensure required columns are present\n",
    "        required_columns = ['Open', 'High', 'Low', 'Close', 'Volume']\n",
    "        missing_columns = [col for col in required_columns if col not in df.columns]\n",
    "        if missing_columns:\n",
    "            raise ValueError(f\"Missing columns in data: {missing_columns}\")\n",
    "\n",
    "        # Select required columns\n",
    "        df = df[required_columns]\n",
    "\n",
    "        return df\n",
    "\n",
    "    except ValueError as ve:\n",
    "        logging.error(f\"Data Error for {symbol}: {ve}\")\n",
    "        print(f\"⚠️ Data error: {ve}\")\n",
    "    \n",
    "    except Exception as e:\n",
    "        logging.error(f\"Unexpected Error for {symbol}: {e}\")\n",
    "        print(f\"⚠️ Unexpected error: {e}\")\n",
    "\n",
    "    return pd.DataFrame()  # Return an empty DataFrame on failure\n"
   ]
  },
  {
   "cell_type": "code",
   "execution_count": 36,
   "metadata": {},
   "outputs": [
    {
     "name": "stdout",
     "output_type": "stream",
     "text": [
      "⚠️ Data error: No data fetched for SPY.\n"
     ]
    }
   ],
   "source": [
    "df = import_data('SPY', '1d')"
   ]
  },
  {
   "cell_type": "markdown",
   "metadata": {},
   "source": [
    "### yfinance curntly do not work"
   ]
  },
  {
   "cell_type": "code",
   "execution_count": null,
   "metadata": {},
   "outputs": [],
   "source": [
    "df['day_of_week'] = df.index.dayofweek\n",
    "day_change = df.groupby('day_of_week').apply(lambda x: x['Close'] - x['Open']).mean().to_frame()\n",
    "import matplotlib.pyplot as plt\n",
    "\n",
    "# Exclude \"hour\" column from plotting\n",
    "columns_to_plot = grouped_hour.columns.difference(['day_of_week'])\n",
    "for column in columns_to_plot:\n",
    "\n",
    "    # Create the plot\n",
    "    plt.figure(figsize=(10, 6))\n",
    "    plt.plot(grouped_hour['day_of_week'], grouped_hour[column], marker='o', linestyle='-', label=column)\n",
    "\n",
    "    plt.xlabel(\"Day\")\n",
    "    plt.ylabel(\"Value\")\n",
    "    plt.title(\"Day of week Stock Data\")\n",
    "    plt.legend()  # Show legend for multiple columns\n",
    "    plt.grid(True)\n",
    "    plt.xticks(grouped_hour['day_of_week'])  # Ensure all hours are visible\n",
    "    plt.show()\n"
   ]
  }
 ],
 "metadata": {
  "kernelspec": {
   "display_name": ".venv",
   "language": "python",
   "name": "python3"
  },
  "language_info": {
   "codemirror_mode": {
    "name": "ipython",
    "version": 3
   },
   "file_extension": ".py",
   "mimetype": "text/x-python",
   "name": "python",
   "nbconvert_exporter": "python",
   "pygments_lexer": "ipython3",
   "version": "3.10.0"
  }
 },
 "nbformat": 4,
 "nbformat_minor": 2
}
